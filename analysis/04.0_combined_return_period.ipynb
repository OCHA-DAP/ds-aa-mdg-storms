{
 "cells": [
  {
   "cell_type": "markdown",
   "metadata": {},
   "source": [
    "# Notebook to compute Overall Return Period"
   ]
  },
  {
   "cell_type": "markdown",
   "metadata": {},
   "source": [
    "This notebook computes the return period for the action and observational triggers."
   ]
  },
  {
   "cell_type": "code",
   "execution_count": 1,
   "metadata": {},
   "outputs": [],
   "source": [
    "%load_ext jupyter_black\n",
    "%load_ext autoreload\n",
    "%autoreload 2"
   ]
  },
  {
   "cell_type": "code",
   "execution_count": 2,
   "metadata": {},
   "outputs": [
    {
     "name": "stderr",
     "output_type": "stream",
     "text": [
      "c:\\Users\\pauni\\Desktop\\Work\\OCHA\\GitHub\\ds-aa-mdg-storms\\.venv\\Lib\\site-packages\\tqdm\\auto.py:21: TqdmWarning: IProgress not found. Please update jupyter and ipywidgets. See https://ipywidgets.readthedocs.io/en/stable/user_install.html\n",
      "  from .autonotebook import tqdm as notebook_tqdm\n"
     ]
    }
   ],
   "source": [
    "from pathlib import Path\n",
    "\n",
    "import pandas as pd\n",
    "import numpy as np\n",
    "import matplotlib.pyplot as plt\n",
    "import geopandas as gpd\n",
    "from src.datasources import codab, imerg, rsmc\n",
    "from src.constants import *\n",
    "from src import db_utils, utils"
   ]
  },
  {
   "cell_type": "code",
   "execution_count": 3,
   "metadata": {},
   "outputs": [],
   "source": [
    "adm1 = codab.load_codab(admin_level=1)"
   ]
  },
  {
   "cell_type": "code",
   "execution_count": 4,
   "metadata": {},
   "outputs": [],
   "source": [
    "df_rsmc = rsmc.load_historical_forecast_distances()\n",
    "distance_cols = [x for x in df_rsmc.columns if \"_distance_km\" in x]\n",
    "df_rsmc[\"any_distance_km\"] = df_rsmc[distance_cols].min(axis=1)"
   ]
  },
  {
   "cell_type": "code",
   "execution_count": 5,
   "metadata": {},
   "outputs": [],
   "source": [
    "ibtracs_path = Path(AA_DATA_DIR) / \"public\" / \"raw\" / \"glb\" / \"ibtracs\"\n",
    "points_path = Path(\n",
    "    ibtracs_path\n",
    "    / \"IBTrACS.SI.list.v04r01.points/IBTrACS.SI.list.v04r01.points.shp\"\n",
    ")\n",
    "gdf_points = gpd.read_file(points_path)\n",
    "gdf_adm1_buffer = adm1.to_crs(epsg=mdg_epsg)\n",
    "gdf_adm1_buffer[\"geometry\"] = gdf_adm1_buffer.geometry.buffer(buffer * 1000)\n",
    "gdf_adm1_buffer = gdf_adm1_buffer.to_crs(adm1.crs)\n",
    "gdf_points_sel = gpd.sjoin(\n",
    "    gdf_points, gdf_adm1_buffer, how=\"inner\", predicate=\"intersects\"\n",
    ")\n",
    "gdf_points_sel_ = gdf_points_sel.sort_values(\"ISO_TIME\")"
   ]
  },
  {
   "cell_type": "code",
   "execution_count": 6,
   "metadata": {},
   "outputs": [],
   "source": [
    "cyclone_db = (\n",
    "    Path(AA_DATA_DIR)\n",
    "    / \"public\"\n",
    "    / \"raw\"\n",
    "    / \"mdg\"\n",
    "    / \"cyclone_database\"\n",
    "    / \"Synthèse dégâts Climatiques 1997 - 2024 (OCHA).xlsx\"\n",
    ")\n",
    "cyclone_db = pd.read_excel(cyclone_db, sheet_name=\"BDD\").dropna(how=\"all\")\n",
    "cyclone_db[\"Nom\"] = cyclone_db[\"Nom\"].str.upper()"
   ]
  },
  {
   "cell_type": "markdown",
   "metadata": {},
   "source": [
    "## Readiness\n"
   ]
  },
  {
   "cell_type": "code",
   "execution_count": 7,
   "metadata": {},
   "outputs": [],
   "source": [
    "scenario3_storms_readiness = df_rsmc[\n",
    "    (df_rsmc[\"MG_distance_km\"] <= 100)\n",
    "    & (df_rsmc[\"max_wind_kt\"] >= 90)\n",
    "    & (df_rsmc[\"lt_hour\"].between(72, 120))\n",
    "][\"name\"].unique()"
   ]
  },
  {
   "cell_type": "code",
   "execution_count": 8,
   "metadata": {},
   "outputs": [
    {
     "data": {
      "text/plain": [
       "{'BATSIRAI', 'BELNA', 'EMNATI', 'ENAWO', 'FREDDY', 'GAMANE', 'GIOVANNA'}"
      ]
     },
     "execution_count": 8,
     "metadata": {},
     "output_type": "execute_result"
    }
   ],
   "source": [
    "set(scenario3_storms_readiness)"
   ]
  },
  {
   "cell_type": "code",
   "execution_count": 9,
   "metadata": {},
   "outputs": [
    {
     "name": "stdout",
     "output_type": "stream",
     "text": [
      "The readiness trigger is met every 2.0 years.\n"
     ]
    }
   ],
   "source": [
    "readiness_yr_len = df_rsmc[\"season\"].nunique()\n",
    "df_readiness_true = len(scenario3_storms_readiness)\n",
    "print(\n",
    "    f\"The readiness trigger is met every {round(readiness_yr_len / df_readiness_true, 1)} years.\"\n",
    ")"
   ]
  },
  {
   "cell_type": "code",
   "execution_count": 10,
   "metadata": {},
   "outputs": [
    {
     "data": {
      "text/plain": [
       "0.5"
      ]
     },
     "execution_count": 10,
     "metadata": {},
     "output_type": "execute_result"
    }
   ],
   "source": [
    "readiness_rate = df_readiness_true / readiness_yr_len\n",
    "readiness_rate"
   ]
  },
  {
   "cell_type": "markdown",
   "metadata": {},
   "source": [
    "## Action"
   ]
  },
  {
   "cell_type": "code",
   "execution_count": 11,
   "metadata": {},
   "outputs": [],
   "source": [
    "action_yr_len = 2024 - 2001 + 1"
   ]
  },
  {
   "cell_type": "code",
   "execution_count": 12,
   "metadata": {},
   "outputs": [],
   "source": [
    "action = set(\n",
    "    gdf_points_sel_[\n",
    "        (gdf_points_sel_[\"SEASON\"] >= 2001)\n",
    "        & (gdf_points_sel_[\"REU_WIND\"] >= 90)\n",
    "    ][\"NAME\"].unique()\n",
    ")"
   ]
  },
  {
   "cell_type": "code",
   "execution_count": 13,
   "metadata": {},
   "outputs": [
    {
     "data": {
      "text/plain": [
       "0.3333333333333333"
      ]
     },
     "execution_count": 13,
     "metadata": {},
     "output_type": "execute_result"
    }
   ],
   "source": [
    "action_rate = len(action) / action_yr_len\n",
    "action_rate"
   ]
  },
  {
   "cell_type": "markdown",
   "metadata": {},
   "source": [
    "## Observational: Displaced Persons"
   ]
  },
  {
   "cell_type": "code",
   "execution_count": 14,
   "metadata": {},
   "outputs": [],
   "source": [
    "obs_idp_yr_len = len(cyclone_db[\"Saison\"].unique())"
   ]
  },
  {
   "cell_type": "code",
   "execution_count": 15,
   "metadata": {},
   "outputs": [],
   "source": [
    "grouped_scenario = (\n",
    "    cyclone_db.groupby(\"Nom\")[\"Deplacees\"].sum().apply(utils.classify_scenario)\n",
    ")\n",
    "grouped_df = pd.DataFrame({\"Scenario\": grouped_scenario}).reset_index()\n",
    "obs_idp = set(grouped_df[grouped_df[\"Scenario\"] == \"Scenario 3\"][\"Nom\"])"
   ]
  },
  {
   "cell_type": "code",
   "execution_count": 16,
   "metadata": {},
   "outputs": [
    {
     "data": {
      "text/plain": [
       "0.3103448275862069"
      ]
     },
     "execution_count": 16,
     "metadata": {},
     "output_type": "execute_result"
    }
   ],
   "source": [
    "obs_idp_rate = len(obs_idp) / obs_idp_yr_len\n",
    "obs_idp_rate"
   ]
  },
  {
   "cell_type": "markdown",
   "metadata": {},
   "source": [
    "## Observational: Rainfall"
   ]
  },
  {
   "cell_type": "code",
   "execution_count": 17,
   "metadata": {},
   "outputs": [],
   "source": [
    "obs_rain_yr_len = 2024 - 2001 + 1"
   ]
  },
  {
   "cell_type": "code",
   "execution_count": 18,
   "metadata": {},
   "outputs": [],
   "source": [
    "# From notebook 03.2_historical_rainfall\n",
    "obs_rain = set(\n",
    "    [\n",
    "        \"ENAWO\",\n",
    "        \"MANOU\",\n",
    "        \"INDLALA\",\n",
    "        \"JADE\",\n",
    "        \"ELIAKIM\",\n",
    "        \"HUBERT\",\n",
    "        \"GAFILO\",\n",
    "        \"HEROLD\",\n",
    "    ]\n",
    ")"
   ]
  },
  {
   "cell_type": "code",
   "execution_count": 19,
   "metadata": {},
   "outputs": [
    {
     "data": {
      "text/plain": [
       "0.3333333333333333"
      ]
     },
     "execution_count": 19,
     "metadata": {},
     "output_type": "execute_result"
    }
   ],
   "source": [
    "obs_rain_rate = len(obs_rain) / obs_rain_yr_len\n",
    "obs_rain_rate"
   ]
  },
  {
   "cell_type": "markdown",
   "metadata": {},
   "source": [
    "## Combined"
   ]
  },
  {
   "cell_type": "markdown",
   "metadata": {},
   "source": [
    "### Combined probability (at least one activates)"
   ]
  },
  {
   "cell_type": "markdown",
   "metadata": {},
   "source": [
    "#### Action and Observational IDP"
   ]
  },
  {
   "cell_type": "code",
   "execution_count": 24,
   "metadata": {},
   "outputs": [
    {
     "name": "stdout",
     "output_type": "stream",
     "text": [
      "Common Cyclones: {'ENAWO', 'INDLALA', 'GAFILO', 'IVAN'}\n",
      "Probability of Intersection: 0.31\n",
      "Return Period: 1-in-3.0 yr\n"
     ]
    }
   ],
   "source": [
    "common_cyclones = action.intersection(obs_idp)\n",
    "total_cyclones = action.union(obs_idp)\n",
    "\n",
    "probability_intersection = len(common_cyclones) / len(total_cyclones)\n",
    "\n",
    "print(f\"Common Cyclones: {common_cyclones}\")\n",
    "print(f\"Probability of Intersection: {probability_intersection:.2f}\")\n",
    "print(\n",
    "    f\"Return Period: 1-in-{round(1 / (action_rate + obs_idp_rate - probability_intersection), 1)} yr\"\n",
    ")"
   ]
  },
  {
   "cell_type": "markdown",
   "metadata": {},
   "source": [
    "#### Action, Observational IDP and Rainfall"
   ]
  },
  {
   "cell_type": "code",
   "execution_count": 30,
   "metadata": {},
   "outputs": [
    {
     "name": "stdout",
     "output_type": "stream",
     "text": [
      "Common Cyclones: {'ENAWO', 'GAFILO', 'INDLALA'}\n",
      "Probability of Intersection: 0.33\n",
      "Return Period: 1-in-3.2 yr\n"
     ]
    }
   ],
   "source": [
    "common_cyclones_all = common_cyclones.intersection(obs_rain)\n",
    "total_cyclones_all = common_cyclones.union(obs_rain)\n",
    "\n",
    "probability_intersection_all = len(common_cyclones_all) / len(\n",
    "    total_cyclones_all\n",
    ")\n",
    "combined_yr_len = max(action_yr_len, obs_idp_yr_len)\n",
    "combined_rate = len(total_cyclones_all) / combined_yr_len\n",
    "return_period = round(\n",
    "    1 / (combined_rate + obs_rain_rate - probability_intersection_all), 1\n",
    ")\n",
    "print(f\"Common Cyclones: {common_cyclones_all}\")\n",
    "print(f\"Probability of Intersection: {probability_intersection_all:.2f}\")\n",
    "print(f\"Return Period: 1-in-{return_period} yr\")"
   ]
  }
 ],
 "metadata": {
  "kernelspec": {
   "display_name": ".venv",
   "language": "python",
   "name": "python3"
  },
  "language_info": {
   "codemirror_mode": {
    "name": "ipython",
    "version": 3
   },
   "file_extension": ".py",
   "mimetype": "text/x-python",
   "name": "python",
   "nbconvert_exporter": "python",
   "pygments_lexer": "ipython3",
   "version": "3.11.0"
  }
 },
 "nbformat": 4,
 "nbformat_minor": 2
}
